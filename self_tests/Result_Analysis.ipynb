{
 "cells": [
  {
   "cell_type": "markdown",
   "id": "68317f85-0ea0-49aa-9da6-44b01ebe5f95",
   "metadata": {},
   "source": [
    "# Analysis of the Results\n",
    "\n",
    "For a given set of tools, automatic test cases are generated. This notebook analyzes the quality of the questions generated along with their diversity and whether they really span the requested combinations of tools.\n",
    "\n",
    "Note that GPT may generate `functions.<function_name>` instead of just the function name and we account for that."
   ]
  },
  {
   "cell_type": "markdown",
   "id": "83c99e2e-b307-49a5-b287-0b7ffb8820a7",
   "metadata": {},
   "source": [
    "## Test case generation\n",
    "\n",
    "We demanded the LLMs to generate test cases including all of their tools. We would like 2 tests per tool (individually) and 2 tests that require exactly 2 of the tools to be answered correctly. Let us verify if this generation was correct.\n",
    "\n",
    "For each test generation strategy, we want to check:\n",
    "\n",
    "- Number of test cases generated per tool (individually);\n",
    "- Number of test cases generated per tool (considering pairs);\n",
    "- How often the model generated questions that used the tool requested;\n",
    "- Manually, how many of the questions really need the tools planned."
   ]
  },
  {
   "cell_type": "markdown",
   "id": "ebb88853-601e-426d-84cc-648d26189b3a",
   "metadata": {},
   "source": [
    "### Set up and read files"
   ]
  },
  {
   "cell_type": "code",
   "execution_count": null,
   "id": "2bb76bb6-e718-4cd0-a5fd-be10994f77d8",
   "metadata": {},
   "outputs": [],
   "source": [
    "import os\n",
    "import json\n",
    "import numpy as np\n",
    "import pandas as pd\n",
    "\n",
    "from matplotlib import pyplot as plt\n",
    "%matplotlib inline"
   ]
  },
  {
   "cell_type": "code",
   "execution_count": null,
   "id": "f5482153-d59c-49b7-99e3-8545d0ff9007",
   "metadata": {},
   "outputs": [],
   "source": [
    "test_gen_strategies = [\n",
    "    'use_all',\n",
    "    'only_selected',\n",
    "    'selected_with_dummies',\n",
    "]"
   ]
  },
  {
   "cell_type": "code",
   "execution_count": null,
   "id": "4c0a828a-0ee3-41f1-9445-50ff0eddb749",
   "metadata": {},
   "outputs": [],
   "source": [
    "test_files = [x for x in os.listdir() if x.endswith('.json')]"
   ]
  },
  {
   "cell_type": "code",
   "execution_count": null,
   "id": "66354874-bac4-4a32-b310-684a505773c5",
   "metadata": {},
   "outputs": [],
   "source": [
    "def read_generated_tests():\n",
    "    df_tests = None\n",
    "    for cur_file in test_files:\n",
    "        with open(cur_file, 'r') as f:\n",
    "            contents = json.loads(f.read())\n",
    "            file_info = cur_file.split('_test_cases_')\n",
    "            df = pd.DataFrame(contents)\n",
    "            df['gen_strategy'] = file_info[0]\n",
    "            df['model'] = file_info[1].replace('.json', '')\n",
    "            if df_tests is None:\n",
    "                df_tests = df\n",
    "            else:\n",
    "                df_tests = pd.concat([df_tests, df])\n",
    "    return df_tests\n",
    "\n",
    "\n",
    "df_tests = read_generated_tests()\n",
    "df_tests"
   ]
  },
  {
   "cell_type": "code",
   "execution_count": null,
   "id": "1ffbfffc-6608-4099-86b0-c1fa221417e9",
   "metadata": {},
   "outputs": [],
   "source": [
    "# compute all tools that were tested\n",
    "all_tools = [\n",
    "    x for x in set(df_tests.expected_tool_to_gen_test.dropna()) if ',' not in x\n",
    "]\n",
    "all_tools"
   ]
  },
  {
   "cell_type": "markdown",
   "id": "e038dd7e-0c3a-47eb-a7b8-32d2f9cc3405",
   "metadata": {},
   "source": [
    "### Number of test cases generated per tool (individually)"
   ]
  },
  {
   "cell_type": "code",
   "execution_count": null,
   "id": "325be888-9683-4a04-987a-5599fefe8a19",
   "metadata": {},
   "outputs": [],
   "source": [
    "# build a dataframe with boolean flags for each tool\n",
    "df_tests_per_tool = df_tests.copy()\n",
    "for t in all_tools:\n",
    "    df_tests_per_tool[t] = df_tests_per_tool.appropriate_tools.map(lambda z: t in str(z).replace('functions.', ''))\n",
    "\n",
    "cols = ['model', 'gen_strategy'] + all_tools\n",
    "df_tests_per_tool[cols].groupby(by=['model', 'gen_strategy']).sum()"
   ]
  },
  {
   "cell_type": "code",
   "execution_count": null,
   "id": "1f68d985-a8db-48f8-a4cc-4baa748f7b5c",
   "metadata": {},
   "outputs": [],
   "source": [
    "df_tests_per_tool[cols].groupby(\n",
    "    by=['model', 'gen_strategy']\n",
    ").sum().plot.barh(figsize=(15,15), title='Number of test cases generated per tool/strategy')"
   ]
  },
  {
   "cell_type": "code",
   "execution_count": null,
   "id": "14ae9eac-cd54-4276-b23a-5cf48ef4a219",
   "metadata": {},
   "outputs": [],
   "source": [
    "df_agg = df_tests_per_tool[cols].groupby(by=['model', 'gen_strategy']).sum()\n",
    "df_agg['coverage'] = np.sum(df_agg[all_tools].values > 0, axis=1) / len(all_tools)\n",
    "df_agg = df_agg.sort_values(by='coverage', ascending=False)\n",
    "df_agg[['coverage']].plot.barh()"
   ]
  },
  {
   "cell_type": "code",
   "execution_count": null,
   "id": "28d7cdfc-96e3-420e-8c6d-f03ba31307a3",
   "metadata": {},
   "outputs": [],
   "source": [
    "# missing coverage\n",
    "all_missing = []\n",
    "for idx, r in df_agg[all_tools].iterrows():\n",
    "    missing_tools = [x for x in all_tools if r[x] == 0]\n",
    "    all_missing.append(missing_tools)\n",
    "df_agg['missing_tools'] = all_missing\n",
    "df_agg[df_agg.coverage < 1][['coverage', 'missing_tools']]"
   ]
  },
  {
   "cell_type": "markdown",
   "id": "6fc93cb5-dc0f-48ad-b6f9-37eec33d8d9d",
   "metadata": {},
   "source": [
    "## Number of test cases generated per tool (considering pairs)"
   ]
  },
  {
   "cell_type": "code",
   "execution_count": null,
   "id": "a2869d0c-6b7b-4b0a-ab0b-25621748e611",
   "metadata": {},
   "outputs": [],
   "source": [
    "def detect_invented_tools(tool_list):\n",
    "    \"\"\" Checks if a list has invented tools.\n",
    "    Returns the names of the invented tools\n",
    "    \"\"\"\n",
    "    invented_tools = []\n",
    "    for x in tool_list:\n",
    "        adjusted_name = x.replace('functions.', '')\n",
    "        if adjusted_name not in all_tools:\n",
    "            invented_tools.append(x)\n",
    "    return ','.join(invented_tools)\n",
    "\n",
    "\n",
    "def belongs_to_col(tool_list, col_tool_names):\n",
    "    \"\"\" Checks if a given tool list belongs to a column\n",
    "    Every tool in the tool list has to match a function in the column\n",
    "    And they need to be different if more than one\n",
    "    \"\"\"\n",
    "    if len(tool_list) > 2:\n",
    "        return False\n",
    "\n",
    "    if len(tool_list) == 2 and tool_list[0] == tool_list[1]:\n",
    "        return False\n",
    "\n",
    "    required_matches = len(col_tool_names)\n",
    "    n_matches = 0\n",
    "    for t in tool_list:\n",
    "        delta = 1 if (t.replace('functions.', '') in str(col_tool_names)) else 0\n",
    "        n_matches += delta\n",
    "\n",
    "    return n_matches == required_matches"
   ]
  },
  {
   "cell_type": "code",
   "execution_count": null,
   "id": "290f390b-73af-47f3-9014-b3c2674ed780",
   "metadata": {},
   "outputs": [],
   "source": [
    "# build a dataframe with boolean flags for tool combinations\n",
    "\n",
    "all_tools_and_pairs = [[x] for x in all_tools]\n",
    "for i, t1 in enumerate(all_tools[0:-1]):\n",
    "    for j, t2 in enumerate(all_tools[i + 1:]):\n",
    "        all_tools_and_pairs.append([t1, t2])\n",
    "\n",
    "df_pair_tests_per_tool = df_tests.copy()\n",
    "df_pair_tests_per_tool['invented_tools'] = df_pair_tests_per_tool.appropriate_tools.map(lambda z: detect_invented_tools(z))\n",
    "tool_cols = [','.join(t) for t in all_tools_and_pairs]\n",
    "for t in all_tools_and_pairs:\n",
    "    df_pair_tests_per_tool[','.join(t)] = df_pair_tests_per_tool.appropriate_tools.map(lambda z: belongs_to_col(z, t))"
   ]
  },
  {
   "cell_type": "code",
   "execution_count": null,
   "id": "3826ad29-5a82-4f56-8c47-95bcbac1a5fa",
   "metadata": {},
   "outputs": [],
   "source": [
    "# df_agg.columns"
   ]
  },
  {
   "cell_type": "code",
   "execution_count": null,
   "id": "6b40c06f-e3ec-4f5d-ab24-dc7f701ee0d5",
   "metadata": {},
   "outputs": [],
   "source": [
    "cols = ['model', 'gen_strategy'] + tool_cols\n",
    "df_pair_tests_per_tool[cols].groupby(by=['model', 'gen_strategy']).sum()"
   ]
  },
  {
   "cell_type": "code",
   "execution_count": null,
   "id": "bcd623c4-2069-4da1-a19b-0d70eebdebaa",
   "metadata": {},
   "outputs": [],
   "source": [
    "df_agg = df_pair_tests_per_tool[cols].groupby(by=['model', 'gen_strategy']).sum()\n",
    "df_agg['coverage'] = np.sum(df_agg[tool_cols].values > 0, axis=1) / len(tool_cols)\n",
    "df_agg = df_agg.sort_values(by='coverage', ascending=False)\n",
    "df_agg[['coverage']].plot.barh()"
   ]
  },
  {
   "cell_type": "code",
   "execution_count": null,
   "id": "d61c5ce0-4ff3-49ff-be4a-a9ac4a091ddc",
   "metadata": {},
   "outputs": [],
   "source": [
    "# missing coverage and invented tools\n",
    "from IPython.display import display, Math, Latex\n",
    "\n",
    "all_missing = []\n",
    "for idx, r in df_agg[tool_cols].iterrows():\n",
    "    missing_tools = [x for x in tool_cols if r[x] == 0]\n",
    "    all_missing.append(missing_tools)\n",
    "df_agg['missing_tools'] = all_missing\n",
    "\n",
    "latex_tbl = df_agg[df_agg.coverage <= 1][['coverage']].to_latex(float_format=\"{:.2f}\".format,)\n",
    "df_agg[df_agg.coverage <= 1][['coverage', 'missing_tools']]"
   ]
  },
  {
   "cell_type": "code",
   "execution_count": null,
   "id": "092f7855-fecc-43e9-958a-76bcdfe0ace8",
   "metadata": {},
   "outputs": [],
   "source": [
    "# export for paper\n",
    "# print(latex_tbl.replace('_', '\\\\_').replace(' - Anthropic', '').replace(' - OpenAI', '').replace(' - Bedrock', ''))"
   ]
  },
  {
   "cell_type": "code",
   "execution_count": null,
   "id": "1e50ed73-6c01-484f-9617-e48f04231b41",
   "metadata": {},
   "outputs": [],
   "source": []
  },
  {
   "cell_type": "code",
   "execution_count": null,
   "id": "189a4499-2280-4aa3-b9bf-ba2e1cffc618",
   "metadata": {},
   "outputs": [],
   "source": []
  },
  {
   "cell_type": "code",
   "execution_count": null,
   "id": "2d64d56d-0ee6-4cdd-a2f6-e77b4cb79b14",
   "metadata": {},
   "outputs": [],
   "source": [
    "df_pair_tests_per_tool[df_pair_tests_per_tool['invented_tools'] != ''].groupby(['model', 'gen_strategy']).count()['question']"
   ]
  },
  {
   "cell_type": "code",
   "execution_count": null,
   "id": "06057bd9-f5f3-426a-ae83-5ecce340eaa1",
   "metadata": {},
   "outputs": [],
   "source": [
    "# [detect_invented_tools(x) for x in df_tests.appropriate_tools[20:40]]"
   ]
  },
  {
   "cell_type": "code",
   "execution_count": null,
   "id": "e16a4a2e-8d8d-479d-ab99-dc1aed16482d",
   "metadata": {},
   "outputs": [],
   "source": [
    "# set([detect_invented_tools(x) for x in df_tests.appropriate_tools])"
   ]
  },
  {
   "cell_type": "markdown",
   "id": "d494094f-abdd-49a3-b636-ac24d0fbc297",
   "metadata": {},
   "source": [
    "# Evaluation\n",
    "\n",
    "Make sure to test when\n",
    "\n",
    "- No tools were planned\n",
    "- Tool names were made up\n",
    "- Correct tools planned\n",
    "- Only one of the correct tools was planned"
   ]
  },
  {
   "cell_type": "code",
   "execution_count": null,
   "id": "7019841e-278b-4a67-be0c-7bed36057cda",
   "metadata": {},
   "outputs": [],
   "source": []
  },
  {
   "cell_type": "code",
   "execution_count": null,
   "id": "4bea29e7-b4d2-4b3b-82c3-a0d8719dd695",
   "metadata": {},
   "outputs": [],
   "source": []
  },
  {
   "cell_type": "code",
   "execution_count": null,
   "id": "959b9f12-2926-437d-95e4-606d4e35aed3",
   "metadata": {},
   "outputs": [],
   "source": []
  }
 ],
 "metadata": {
  "kernelspec": {
   "display_name": "Python 3 (ipykernel)",
   "language": "python",
   "name": "python3"
  },
  "language_info": {
   "codemirror_mode": {
    "name": "ipython",
    "version": 3
   },
   "file_extension": ".py",
   "mimetype": "text/x-python",
   "name": "python",
   "nbconvert_exporter": "python",
   "pygments_lexer": "ipython3",
   "version": "3.12.4"
  }
 },
 "nbformat": 4,
 "nbformat_minor": 5
}
