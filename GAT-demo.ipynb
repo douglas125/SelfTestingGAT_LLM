{
 "cells": [
  {
   "cell_type": "markdown",
   "id": "a80ee415-364c-4f83-ba88-0290b3cd8f82",
   "metadata": {},
   "source": [
    "# Self-evaluation of Generation Augmented by Tools\n",
    "\n",
    "---\n",
    "\n",
    "## Demonstration notebook\n",
    "\n",
    "-----\n",
    "\n",
    "Retrieval Augmented Generation (RAG) and, more generally, Generation Aumented by Tools (GAT) can greatly improve LLM capabilities on non-language related tasks and tasks that require retrieving information from databases, for example.\n",
    "\n",
    "However, there are already multiple LLM choices and the vast amount of interest in the field means more will come. While public datasets are available to test general LLM performance, it is difficult to evaluate GAT specifically developed for a business task of interest.\n",
    "\n",
    "This work introduces a method for self-evaluation of GAT. This is done by providing tools that allow the LLM to generate domain-specific responses and verify that those are correct. There are many problems whose solution may be difficult to compute but it's correctness is easy to verify.\n",
    "\n",
    "\n",
    "## Running on AWS SageMaker\n",
    "\n",
    "This notebook runs on AWS Sagemaker Studio in the Data Science 3.0 image.\n",
    "\n",
    "\n",
    "### Claude notes\n",
    "\n",
    "Allowed Claude types are string, integer, number\n",
    "\n",
    "                \"priority\": {\n",
    "                    \"type\": \"integer\",\n",
    "                    \"minimum\": 1,\n",
    "                    \"maximum\": 5,\n",
    "                    \"default\": 3,\n",
    "                    \"description\": \"The priority level of the note (1-5).\"\n",
    "                },\n",
    "                \"is_public\": {\n",
    "                    \"type\": \"boolean\",\n",
    "                    \"default\": False,\n",
    "                    \"description\": \"Indicates whether the note is publicly accessible.\"\n",
    "                }"
   ]
  },
  {
   "cell_type": "markdown",
   "id": "71fb86f0-804a-448c-81d6-c69259eb916a",
   "metadata": {},
   "source": [
    "## Setup"
   ]
  },
  {
   "cell_type": "code",
   "execution_count": null,
   "id": "c168ad6d-475e-4595-b756-fca7722ea8a4",
   "metadata": {
    "tags": []
   },
   "outputs": [],
   "source": [
    "try:\n",
    "    import gradio as gr\n",
    "    import qrcode\n",
    "except:\n",
    "    %pip install gradio -q\n",
    "    %pip uninstall typing-extensions -y -q\n",
    "    %pip install -U typing-extensions -q\n",
    "    %pip install matplotlib -q\n",
    "    %pip install qrcode"
   ]
  },
  {
   "cell_type": "code",
   "execution_count": null,
   "id": "d96e51fd-3662-48ca-bec7-e2d91c9e3ade",
   "metadata": {},
   "outputs": [],
   "source": []
  },
  {
   "cell_type": "markdown",
   "id": "a37f36e6-3638-4ed3-945c-89f2e9e85241",
   "metadata": {},
   "source": [
    "## Initialize LLM"
   ]
  },
  {
   "cell_type": "code",
   "execution_count": null,
   "id": "475c2297-5dd1-4112-a029-2f624419dca2",
   "metadata": {
    "tags": []
   },
   "outputs": [],
   "source": [
    "import json\n",
    "\n",
    "import boto3\n",
    "import botocore\n",
    "\n",
    "%load_ext autoreload\n",
    "%autoreload 2\n",
    "\n",
    "import llm_invoker as inv"
   ]
  },
  {
   "cell_type": "code",
   "execution_count": null,
   "id": "cf4905a3-55a8-4fd3-b6ec-b4dcdf63856e",
   "metadata": {
    "tags": []
   },
   "outputs": [],
   "source": [
    "config = botocore.client.Config(connect_timeout=9000, read_timeout=9000, region_name=\"us-west-2\")  # us-east-1  us-west-2\n",
    "bedrock_client = boto3.client(service_name='bedrock-runtime', config=config)"
   ]
  },
  {
   "cell_type": "code",
   "execution_count": null,
   "id": "d9fe807f-dc36-4492-bf9a-3cfdc49c1bb6",
   "metadata": {
    "tags": []
   },
   "outputs": [],
   "source": [
    "# llm = inv.LLM_Bedrock.get_llm(bedrock_client, 'Mistral Mixtral 8x7B')\n",
    "# llm = inv.LLM_Bedrock.get_llm(bedrock_client, 'Claude 2.1')\n",
    "# llm = inv.LLM_Bedrock.get_llm(bedrock_client, 'Llama2 13b')\n",
    "# llm = inv.LLM_Bedrock.get_llm(bedrock_client, 'Llama2 70b')\n",
    "# llm = inv.LLM_Bedrock.get_llm(bedrock_client, 'Claude 3 Sonnet')\n",
    "llm = inv.LLM_Bedrock.get_llm(bedrock_client, 'Claude 3 Haiku')\n",
    "# llm = inv.LLM_Bedrock.get_llm(bedrock_client, 'Claude 3 Opus')\n",
    "\n",
    "# enable this if the LLM has native support for tool use, like Claude\n",
    "use_native_LLM_tools = True"
   ]
  },
  {
   "cell_type": "code",
   "execution_count": null,
   "id": "47e4523c-01ec-4aef-93bf-c342c090d984",
   "metadata": {
    "tags": []
   },
   "outputs": [],
   "source": [
    "\"\"\"\n",
    "ans = llm(\"and at night? Enclose your answer within <my_ans></my_ans> tags. Then explain further.\",\n",
    "          chat_history=[[\"What color is the sky?\", \"Blue\"]],\n",
    "          system_prompt=\"You are a very knowledgeable truck driver. Use a strong truck driver's language and make sure to mention your name is Jack.\",\n",
    "          postpend=\"Such\",\n",
    "          # extra_stop_sequences=['</my_ans>']\n",
    "         )\n",
    "prev = \"\"\n",
    "for x in ans:\n",
    "    cur_ans = x\n",
    "    # print(cur_ans.replace(prev, ''))\n",
    "    # prev = cur_ans\n",
    "    print('.', end='')\n",
    "print('\\n')\n",
    "print(x)\n",
    "\"\"\""
   ]
  },
  {
   "cell_type": "code",
   "execution_count": null,
   "id": "ace5f3ab-b80a-4f5a-bbd6-5d0b6f6865a1",
   "metadata": {},
   "outputs": [],
   "source": []
  },
  {
   "cell_type": "markdown",
   "id": "4a6c4024-4d8d-43ff-9daf-bdc1142ffdd4",
   "metadata": {},
   "source": [
    "## Initialize Tools"
   ]
  },
  {
   "cell_type": "code",
   "execution_count": null,
   "id": "de2090c8-5749-4e2f-9087-95e36f4582db",
   "metadata": {
    "tags": []
   },
   "outputs": [],
   "source": [
    "from tools.base import LLMTools\n",
    "from prompts.prompt_generator import RAGPromptGenerator\n",
    "lt = LLMTools(query_llm=llm)\n",
    "\n",
    "tool_descriptions = lt.get_tool_descriptions()\n",
    "\n",
    "# Uncomment to take a look at all descriptions\n",
    "# print(tool_descriptions)"
   ]
  },
  {
   "cell_type": "code",
   "execution_count": null,
   "id": "3d8a2488-64e7-48ee-b4de-bb1dd54a4ec7",
   "metadata": {
    "tags": []
   },
   "outputs": [],
   "source": [
    "rpg = RAGPromptGenerator(use_native_tools=use_native_LLM_tools)\n",
    "\n",
    "# Uncomment to look at the base prompt\n",
    "# print(rpg.prompt)"
   ]
  },
  {
   "cell_type": "code",
   "execution_count": null,
   "id": "680f6a96-edd5-4fe4-945d-4ba7e2693720",
   "metadata": {
    "tags": []
   },
   "outputs": [],
   "source": [
    "system_prompt = rpg.prompt.replace('{{TOOLS}}', tool_descriptions)\n",
    "\n",
    "# Uncomment to take a look at the final prompt\n",
    "# print(system_prompt)"
   ]
  },
  {
   "cell_type": "markdown",
   "id": "fc4dff46-62d9-48c8-8893-f5cca87faa28",
   "metadata": {},
   "source": [
    "### Test native tool calling"
   ]
  },
  {
   "cell_type": "code",
   "execution_count": null,
   "id": "2b28fe8e-2411-46b8-bc6c-626193f9a372",
   "metadata": {},
   "outputs": [],
   "source": []
  },
  {
   "cell_type": "code",
   "execution_count": null,
   "id": "91d5c1f4-5467-4eec-8575-d7fabaf42ff0",
   "metadata": {},
   "outputs": [],
   "source": [
    "cur_tools = [x.tool_description for x in lt.tools]\n",
    "\n",
    "ans = llm(\"What date will it be 10 days from now? Today is June 4, 2024. Use your tool do_date_math. Before calling any tools, explain your thoughts.\",\n",
    "# ans = llm(\"What is the weather like in the city of Rio de Janeiro?\",\n",
    "          chat_history=[[\"What color is the sky?\", \"Blue\"]],\n",
    "          system_prompt=\"You are a helpful assistant. Prefer to use tools when possible. Never mention tool names in the answer.\",\n",
    "          # postpend=\"Such\",\n",
    "          tools=cur_tools,\n",
    "          tool_invoker_fn=lt.invoke_tool,\n",
    "          # extra_stop_sequences=['</my_ans>']\n",
    "         )"
   ]
  },
  {
   "cell_type": "code",
   "execution_count": null,
   "id": "1fb2b67a-15d8-40b9-84d7-0ea943cb5850",
   "metadata": {},
   "outputs": [],
   "source": [
    "\"\"\"\n",
    "prev = \"\"\n",
    "for x in ans:\n",
    "    cur_ans = x\n",
    "    # print(cur_ans.replace(prev, ''))\n",
    "    # prev = cur_ans\n",
    "    print('.', end='')\n",
    "print(cur_ans)\n",
    "\"\"\"\n"
   ]
  },
  {
   "cell_type": "code",
   "execution_count": null,
   "id": "f346d53d-8e2f-437a-9c2f-7868bfb67d4e",
   "metadata": {},
   "outputs": [],
   "source": []
  },
  {
   "cell_type": "code",
   "execution_count": null,
   "id": "bcdd7b58-a084-4831-aa77-f7edf6e66258",
   "metadata": {},
   "outputs": [],
   "source": []
  },
  {
   "cell_type": "markdown",
   "id": "03b5e1c1-c70f-48d4-b691-567c74c46a95",
   "metadata": {},
   "source": [
    "### Test tools"
   ]
  },
  {
   "cell_type": "code",
   "execution_count": null,
   "id": "38c0bf96-594e-43f7-8dfb-fd479b6fad0e",
   "metadata": {
    "tags": []
   },
   "outputs": [],
   "source": [
    "# ans = lt.invoke_tool('get_url_content', internet_urls='https://www1.folha.uol.com.br, https://g1.globo.com/', prompt=\"Summarize the contents.\")\n",
    "# print(ans)"
   ]
  },
  {
   "cell_type": "code",
   "execution_count": null,
   "id": "ca90eba1-8c64-41a0-a4b6-99afcf420a0f",
   "metadata": {},
   "outputs": [],
   "source": [
    "# ans = lt.invoke_tool('use_ffmpeg', ffmpeg_arguments=\"-i input.mp4 -ss 10 -t 20 output.mp4\")\n",
    "# print(ans)"
   ]
  },
  {
   "cell_type": "code",
   "execution_count": null,
   "id": "7cec25b4-a40e-4c98-9592-8fcad72835c6",
   "metadata": {
    "tags": []
   },
   "outputs": [],
   "source": [
    "# ans = lt.invoke_tool('make_qr_code', qr_text='Hello World!Hello World!Hello World!Hello World!Hello World!Hello World!Hello World!Hello World!Hello World!Hello World!Hello World!')\n",
    "# print(ans)"
   ]
  },
  {
   "cell_type": "code",
   "execution_count": null,
   "id": "6384d980-df58-449b-b4a8-d81c2701d8f9",
   "metadata": {
    "tags": []
   },
   "outputs": [],
   "source": []
  },
  {
   "cell_type": "code",
   "execution_count": null,
   "id": "1cc5c014-fde9-478f-bbe9-984995553fdb",
   "metadata": {
    "tags": []
   },
   "outputs": [],
   "source": [
    "f = r\"\"\"test.txt\n",
    "test.txt\n",
    "\"\"\"\n",
    "# ans = lt.invoke_tool('read_local_files', path_to_files=f)\n",
    "# print(ans)"
   ]
  },
  {
   "cell_type": "code",
   "execution_count": null,
   "id": "15d30020-35fd-4fe5-9b28-fc1ab3c0eeb0",
   "metadata": {},
   "outputs": [],
   "source": [
    "# f = '/root/Experiments/llm-Claude-tests/meeting_notes/'\n",
    "# ans = lt.invoke_tool('read_file_names_in_local_folder', path_to_folder=f)\n",
    "# print(ans)"
   ]
  },
  {
   "cell_type": "code",
   "execution_count": null,
   "id": "d99433a8-7538-48b7-b81a-9e1bf0c7a3a9",
   "metadata": {},
   "outputs": [],
   "source": []
  },
  {
   "cell_type": "markdown",
   "id": "027d3932-8481-4b27-9817-075ff91ad226",
   "metadata": {
    "tags": []
   },
   "source": [
    "## Initialize Interfaces"
   ]
  },
  {
   "cell_type": "code",
   "execution_count": null,
   "id": "b373a61d-4029-44ce-a448-efe5641d2d6d",
   "metadata": {
    "tags": []
   },
   "outputs": [],
   "source": [
    "from llm_interface import LLMInterface\n",
    "li = LLMInterface(\n",
    "    system_prompt=system_prompt,\n",
    "    llm=llm,\n",
    "    llm_tools=lt,\n",
    "    rpg=rpg\n",
    ")"
   ]
  },
  {
   "cell_type": "code",
   "execution_count": null,
   "id": "52d7f99e-64e7-4d60-8e64-6d920b57b555",
   "metadata": {},
   "outputs": [],
   "source": [
    "# print(system_prompt)"
   ]
  },
  {
   "cell_type": "markdown",
   "id": "0de0d356-9665-48fd-b783-02a9ba1e6418",
   "metadata": {},
   "source": [
    "# Run locally"
   ]
  },
  {
   "cell_type": "code",
   "execution_count": null,
   "id": "976740fe-acef-40f7-ac72-064b27a88f25",
   "metadata": {
    "tags": []
   },
   "outputs": [],
   "source": [
    "q = \"\"\" Answer the following <questions>:\n",
    "<questions>\n",
    "<question>What day is today?</question>\n",
    "<question>Make a plot of y=x^2</question>\n",
    "</questions>\"\"\"\n",
    "\n",
    "q = \"What are the solutions to the equation: x^2 - 1 = 0\"\n",
    "q1 = \"\"\"Generate 3 questions that you can answer using your tools.\n",
    "After generating the questions, compute the correct answer using the tools.\n",
    "Then, output your answer in the format:\n",
    "<question_answers>\n",
    "<question_answer>\n",
    "<question>(Question that you can answer with your tools)</question>\n",
    "<expected_answer>(Correct answer, calculated using the tools)</expected_answer>\n",
    "</question_answer>\n",
    "</question_answers>\"\"\"\n",
    "q2 = \"I live in Florence IT. Fetch from the internet relevant news today. Summarize the news for me.\"\n",
    "\n",
    "# ans = li.chat_with_function_caller(q, image=None, ui_history=[])"
   ]
  },
  {
   "cell_type": "code",
   "execution_count": null,
   "id": "d633b14c-787a-441a-8f46-d8ef55ce5331",
   "metadata": {
    "tags": []
   },
   "outputs": [],
   "source": [
    "\"\"\"\n",
    "# uncomment this to see the answer in the notebook\n",
    "import time\n",
    "t0 = time.time()\n",
    "\n",
    "prev = \"\"\n",
    "for x in ans:\n",
    "    cur_ans = x[3][-1][1]\n",
    "    try:\n",
    "        print(cur_ans.replace(prev, ''))\n",
    "    except:\n",
    "        pass\n",
    "    prev = cur_ans\n",
    "    # print('.', end='')\n",
    "\"\"\""
   ]
  },
  {
   "cell_type": "code",
   "execution_count": null,
   "id": "856fb6ca-8f9b-4441-b057-e9fbb42189ce",
   "metadata": {
    "tags": []
   },
   "outputs": [],
   "source": [
    "# print(cur_ans)"
   ]
  },
  {
   "cell_type": "code",
   "execution_count": null,
   "id": "ae7a6ef0-b30f-4743-8784-015f07ff978e",
   "metadata": {},
   "outputs": [],
   "source": [
    "# use your tools to verify if the solution satisfies all requirements of the problem"
   ]
  },
  {
   "cell_type": "markdown",
   "id": "1c69e779-7d8b-4290-8278-5612bdcd35b2",
   "metadata": {},
   "source": [
    "# Run with Gradio"
   ]
  },
  {
   "cell_type": "code",
   "execution_count": null,
   "id": "cb1930f1-840c-4985-958a-9670c32ab251",
   "metadata": {},
   "outputs": [],
   "source": [
    "examples=[\n",
    "    'Give me a summary of your tools and what they do. Answer with a table.',\n",
    "    'What is in the image?',\n",
    "    \"What day is today?\",\n",
    "    \"If I invest $100 with an interest rate of 1% per month, how much will I have in 3 years?\",\n",
    "    \"Make a plot of y=x^2\",\n",
    "    \"What are the solutions to the equation: x^2 - 1 = 0\",\n",
    "    \"If Mark has 3 times more apples than John and they have 40 apples in total, how many apples do each have?\",\n",
    "    \"Evaluate the expression exp(2)+sin(4)\",\n",
    "    'faca um qr code estilo vcard para mim. me pergunte as informacoes que precisar',\n",
    "    \"I live in Florence IT. Fetch from the internet relevant news today.\",\n",
    "    \"Summarize the economics news in https://www.economist.com/ and https://www.theguardian.com/business/economics . Check which articles show on both or only on one. Answer with a table.\",\n",
    "    \"List all your tools. Summarize what each tool does and generate 3 sample questions that it could answer. Answer with a table.\",\n",
    "]"
   ]
  },
  {
   "cell_type": "code",
   "execution_count": null,
   "id": "0e02491f-e990-4f1d-943c-42413647360e",
   "metadata": {
    "tags": []
   },
   "outputs": [],
   "source": [
    "def msg_forward_func(msg, img_input, history, request: gr.Request):\n",
    "    # print(request)\n",
    "    ans_gen = li.chat_with_function_caller(msg, img_input, history, username=request.username)\n",
    "    for x in ans_gen:\n",
    "        txtbox, scratchpad_info, img_input, cur_history = x\n",
    "        yield txtbox, scratchpad_info, img_input, cur_history\n"
   ]
  },
  {
   "cell_type": "code",
   "execution_count": null,
   "id": "79449de3-262e-4a23-a16f-efab52c6c9eb",
   "metadata": {
    "tags": []
   },
   "outputs": [],
   "source": [
    "with gr.Blocks() as demo:\n",
    "    with gr.Column():\n",
    "        with gr.Row():\n",
    "            with gr.Column(scale=2):\n",
    "                chatbot = gr.Chatbot(label=\"Assistant\", elem_id=\"chatbot\")\n",
    "            with gr.Column(scale=1):\n",
    "                image_input = gr.Image(label='Input Image')\n",
    "\n",
    "        msg2 = gr.Dropdown(\n",
    "            examples, label=\"Question\", info=\"Select or type a question\", allow_custom_value=True\n",
    "        )\n",
    "\n",
    "        with gr.Row():\n",
    "            send_btn = gr.Button(\"Send\")\n",
    "            clear = gr.ClearButton([msg2, image_input, chatbot])\n",
    "\n",
    "        scratchpad = gr.Textbox(label=\"Scratchpad\")\n",
    "\n",
    "    gr.on(\n",
    "        # triggers=[msg.submit, send_btn.click],\n",
    "        triggers=[send_btn.click],\n",
    "        fn=msg_forward_func,  # li.chat_with_function_caller,  # respond,\n",
    "        inputs=[msg2, image_input, chatbot],\n",
    "        outputs=[msg2, scratchpad, image_input, chatbot],\n",
    "        concurrency_limit=20\n",
    "    )\n",
    "\n",
    "demo.queue().launch(show_api=False, share=False, inline=False)"
   ]
  },
  {
   "cell_type": "code",
   "execution_count": null,
   "id": "d26a9b0c-353f-48cf-8c72-54c0bbcc3b88",
   "metadata": {},
   "outputs": [],
   "source": []
  },
  {
   "cell_type": "code",
   "execution_count": null,
   "id": "44f33dec-2e75-4c29-9d08-9df8f1c6d796",
   "metadata": {},
   "outputs": [],
   "source": [
    "lt.invoke_log"
   ]
  },
  {
   "cell_type": "code",
   "execution_count": null,
   "id": "04e844b6-998d-47fe-8cea-37ef0db6dc45",
   "metadata": {},
   "outputs": [],
   "source": [
    "# demo.close()"
   ]
  },
  {
   "cell_type": "code",
   "execution_count": null,
   "id": "e3ad0192-8bdf-43a5-835b-4ed1c60dc256",
   "metadata": {},
   "outputs": [],
   "source": []
  }
 ],
 "metadata": {
  "availableInstances": [
   {
    "_defaultOrder": 0,
    "_isFastLaunch": true,
    "category": "General purpose",
    "gpuNum": 0,
    "hideHardwareSpecs": false,
    "memoryGiB": 4,
    "name": "ml.t3.medium",
    "vcpuNum": 2
   },
   {
    "_defaultOrder": 1,
    "_isFastLaunch": false,
    "category": "General purpose",
    "gpuNum": 0,
    "hideHardwareSpecs": false,
    "memoryGiB": 8,
    "name": "ml.t3.large",
    "vcpuNum": 2
   },
   {
    "_defaultOrder": 2,
    "_isFastLaunch": false,
    "category": "General purpose",
    "gpuNum": 0,
    "hideHardwareSpecs": false,
    "memoryGiB": 16,
    "name": "ml.t3.xlarge",
    "vcpuNum": 4
   },
   {
    "_defaultOrder": 3,
    "_isFastLaunch": false,
    "category": "General purpose",
    "gpuNum": 0,
    "hideHardwareSpecs": false,
    "memoryGiB": 32,
    "name": "ml.t3.2xlarge",
    "vcpuNum": 8
   },
   {
    "_defaultOrder": 4,
    "_isFastLaunch": true,
    "category": "General purpose",
    "gpuNum": 0,
    "hideHardwareSpecs": false,
    "memoryGiB": 8,
    "name": "ml.m5.large",
    "vcpuNum": 2
   },
   {
    "_defaultOrder": 5,
    "_isFastLaunch": false,
    "category": "General purpose",
    "gpuNum": 0,
    "hideHardwareSpecs": false,
    "memoryGiB": 16,
    "name": "ml.m5.xlarge",
    "vcpuNum": 4
   },
   {
    "_defaultOrder": 6,
    "_isFastLaunch": false,
    "category": "General purpose",
    "gpuNum": 0,
    "hideHardwareSpecs": false,
    "memoryGiB": 32,
    "name": "ml.m5.2xlarge",
    "vcpuNum": 8
   },
   {
    "_defaultOrder": 7,
    "_isFastLaunch": false,
    "category": "General purpose",
    "gpuNum": 0,
    "hideHardwareSpecs": false,
    "memoryGiB": 64,
    "name": "ml.m5.4xlarge",
    "vcpuNum": 16
   },
   {
    "_defaultOrder": 8,
    "_isFastLaunch": false,
    "category": "General purpose",
    "gpuNum": 0,
    "hideHardwareSpecs": false,
    "memoryGiB": 128,
    "name": "ml.m5.8xlarge",
    "vcpuNum": 32
   },
   {
    "_defaultOrder": 9,
    "_isFastLaunch": false,
    "category": "General purpose",
    "gpuNum": 0,
    "hideHardwareSpecs": false,
    "memoryGiB": 192,
    "name": "ml.m5.12xlarge",
    "vcpuNum": 48
   },
   {
    "_defaultOrder": 10,
    "_isFastLaunch": false,
    "category": "General purpose",
    "gpuNum": 0,
    "hideHardwareSpecs": false,
    "memoryGiB": 256,
    "name": "ml.m5.16xlarge",
    "vcpuNum": 64
   },
   {
    "_defaultOrder": 11,
    "_isFastLaunch": false,
    "category": "General purpose",
    "gpuNum": 0,
    "hideHardwareSpecs": false,
    "memoryGiB": 384,
    "name": "ml.m5.24xlarge",
    "vcpuNum": 96
   },
   {
    "_defaultOrder": 12,
    "_isFastLaunch": false,
    "category": "General purpose",
    "gpuNum": 0,
    "hideHardwareSpecs": false,
    "memoryGiB": 8,
    "name": "ml.m5d.large",
    "vcpuNum": 2
   },
   {
    "_defaultOrder": 13,
    "_isFastLaunch": false,
    "category": "General purpose",
    "gpuNum": 0,
    "hideHardwareSpecs": false,
    "memoryGiB": 16,
    "name": "ml.m5d.xlarge",
    "vcpuNum": 4
   },
   {
    "_defaultOrder": 14,
    "_isFastLaunch": false,
    "category": "General purpose",
    "gpuNum": 0,
    "hideHardwareSpecs": false,
    "memoryGiB": 32,
    "name": "ml.m5d.2xlarge",
    "vcpuNum": 8
   },
   {
    "_defaultOrder": 15,
    "_isFastLaunch": false,
    "category": "General purpose",
    "gpuNum": 0,
    "hideHardwareSpecs": false,
    "memoryGiB": 64,
    "name": "ml.m5d.4xlarge",
    "vcpuNum": 16
   },
   {
    "_defaultOrder": 16,
    "_isFastLaunch": false,
    "category": "General purpose",
    "gpuNum": 0,
    "hideHardwareSpecs": false,
    "memoryGiB": 128,
    "name": "ml.m5d.8xlarge",
    "vcpuNum": 32
   },
   {
    "_defaultOrder": 17,
    "_isFastLaunch": false,
    "category": "General purpose",
    "gpuNum": 0,
    "hideHardwareSpecs": false,
    "memoryGiB": 192,
    "name": "ml.m5d.12xlarge",
    "vcpuNum": 48
   },
   {
    "_defaultOrder": 18,
    "_isFastLaunch": false,
    "category": "General purpose",
    "gpuNum": 0,
    "hideHardwareSpecs": false,
    "memoryGiB": 256,
    "name": "ml.m5d.16xlarge",
    "vcpuNum": 64
   },
   {
    "_defaultOrder": 19,
    "_isFastLaunch": false,
    "category": "General purpose",
    "gpuNum": 0,
    "hideHardwareSpecs": false,
    "memoryGiB": 384,
    "name": "ml.m5d.24xlarge",
    "vcpuNum": 96
   },
   {
    "_defaultOrder": 20,
    "_isFastLaunch": false,
    "category": "General purpose",
    "gpuNum": 0,
    "hideHardwareSpecs": true,
    "memoryGiB": 0,
    "name": "ml.geospatial.interactive",
    "supportedImageNames": [
     "sagemaker-geospatial-v1-0"
    ],
    "vcpuNum": 0
   },
   {
    "_defaultOrder": 21,
    "_isFastLaunch": true,
    "category": "Compute optimized",
    "gpuNum": 0,
    "hideHardwareSpecs": false,
    "memoryGiB": 4,
    "name": "ml.c5.large",
    "vcpuNum": 2
   },
   {
    "_defaultOrder": 22,
    "_isFastLaunch": false,
    "category": "Compute optimized",
    "gpuNum": 0,
    "hideHardwareSpecs": false,
    "memoryGiB": 8,
    "name": "ml.c5.xlarge",
    "vcpuNum": 4
   },
   {
    "_defaultOrder": 23,
    "_isFastLaunch": false,
    "category": "Compute optimized",
    "gpuNum": 0,
    "hideHardwareSpecs": false,
    "memoryGiB": 16,
    "name": "ml.c5.2xlarge",
    "vcpuNum": 8
   },
   {
    "_defaultOrder": 24,
    "_isFastLaunch": false,
    "category": "Compute optimized",
    "gpuNum": 0,
    "hideHardwareSpecs": false,
    "memoryGiB": 32,
    "name": "ml.c5.4xlarge",
    "vcpuNum": 16
   },
   {
    "_defaultOrder": 25,
    "_isFastLaunch": false,
    "category": "Compute optimized",
    "gpuNum": 0,
    "hideHardwareSpecs": false,
    "memoryGiB": 72,
    "name": "ml.c5.9xlarge",
    "vcpuNum": 36
   },
   {
    "_defaultOrder": 26,
    "_isFastLaunch": false,
    "category": "Compute optimized",
    "gpuNum": 0,
    "hideHardwareSpecs": false,
    "memoryGiB": 96,
    "name": "ml.c5.12xlarge",
    "vcpuNum": 48
   },
   {
    "_defaultOrder": 27,
    "_isFastLaunch": false,
    "category": "Compute optimized",
    "gpuNum": 0,
    "hideHardwareSpecs": false,
    "memoryGiB": 144,
    "name": "ml.c5.18xlarge",
    "vcpuNum": 72
   },
   {
    "_defaultOrder": 28,
    "_isFastLaunch": false,
    "category": "Compute optimized",
    "gpuNum": 0,
    "hideHardwareSpecs": false,
    "memoryGiB": 192,
    "name": "ml.c5.24xlarge",
    "vcpuNum": 96
   },
   {
    "_defaultOrder": 29,
    "_isFastLaunch": true,
    "category": "Accelerated computing",
    "gpuNum": 1,
    "hideHardwareSpecs": false,
    "memoryGiB": 16,
    "name": "ml.g4dn.xlarge",
    "vcpuNum": 4
   },
   {
    "_defaultOrder": 30,
    "_isFastLaunch": false,
    "category": "Accelerated computing",
    "gpuNum": 1,
    "hideHardwareSpecs": false,
    "memoryGiB": 32,
    "name": "ml.g4dn.2xlarge",
    "vcpuNum": 8
   },
   {
    "_defaultOrder": 31,
    "_isFastLaunch": false,
    "category": "Accelerated computing",
    "gpuNum": 1,
    "hideHardwareSpecs": false,
    "memoryGiB": 64,
    "name": "ml.g4dn.4xlarge",
    "vcpuNum": 16
   },
   {
    "_defaultOrder": 32,
    "_isFastLaunch": false,
    "category": "Accelerated computing",
    "gpuNum": 1,
    "hideHardwareSpecs": false,
    "memoryGiB": 128,
    "name": "ml.g4dn.8xlarge",
    "vcpuNum": 32
   },
   {
    "_defaultOrder": 33,
    "_isFastLaunch": false,
    "category": "Accelerated computing",
    "gpuNum": 4,
    "hideHardwareSpecs": false,
    "memoryGiB": 192,
    "name": "ml.g4dn.12xlarge",
    "vcpuNum": 48
   },
   {
    "_defaultOrder": 34,
    "_isFastLaunch": false,
    "category": "Accelerated computing",
    "gpuNum": 1,
    "hideHardwareSpecs": false,
    "memoryGiB": 256,
    "name": "ml.g4dn.16xlarge",
    "vcpuNum": 64
   },
   {
    "_defaultOrder": 35,
    "_isFastLaunch": false,
    "category": "Accelerated computing",
    "gpuNum": 1,
    "hideHardwareSpecs": false,
    "memoryGiB": 61,
    "name": "ml.p3.2xlarge",
    "vcpuNum": 8
   },
   {
    "_defaultOrder": 36,
    "_isFastLaunch": false,
    "category": "Accelerated computing",
    "gpuNum": 4,
    "hideHardwareSpecs": false,
    "memoryGiB": 244,
    "name": "ml.p3.8xlarge",
    "vcpuNum": 32
   },
   {
    "_defaultOrder": 37,
    "_isFastLaunch": false,
    "category": "Accelerated computing",
    "gpuNum": 8,
    "hideHardwareSpecs": false,
    "memoryGiB": 488,
    "name": "ml.p3.16xlarge",
    "vcpuNum": 64
   },
   {
    "_defaultOrder": 38,
    "_isFastLaunch": false,
    "category": "Accelerated computing",
    "gpuNum": 8,
    "hideHardwareSpecs": false,
    "memoryGiB": 768,
    "name": "ml.p3dn.24xlarge",
    "vcpuNum": 96
   },
   {
    "_defaultOrder": 39,
    "_isFastLaunch": false,
    "category": "Memory Optimized",
    "gpuNum": 0,
    "hideHardwareSpecs": false,
    "memoryGiB": 16,
    "name": "ml.r5.large",
    "vcpuNum": 2
   },
   {
    "_defaultOrder": 40,
    "_isFastLaunch": false,
    "category": "Memory Optimized",
    "gpuNum": 0,
    "hideHardwareSpecs": false,
    "memoryGiB": 32,
    "name": "ml.r5.xlarge",
    "vcpuNum": 4
   },
   {
    "_defaultOrder": 41,
    "_isFastLaunch": false,
    "category": "Memory Optimized",
    "gpuNum": 0,
    "hideHardwareSpecs": false,
    "memoryGiB": 64,
    "name": "ml.r5.2xlarge",
    "vcpuNum": 8
   },
   {
    "_defaultOrder": 42,
    "_isFastLaunch": false,
    "category": "Memory Optimized",
    "gpuNum": 0,
    "hideHardwareSpecs": false,
    "memoryGiB": 128,
    "name": "ml.r5.4xlarge",
    "vcpuNum": 16
   },
   {
    "_defaultOrder": 43,
    "_isFastLaunch": false,
    "category": "Memory Optimized",
    "gpuNum": 0,
    "hideHardwareSpecs": false,
    "memoryGiB": 256,
    "name": "ml.r5.8xlarge",
    "vcpuNum": 32
   },
   {
    "_defaultOrder": 44,
    "_isFastLaunch": false,
    "category": "Memory Optimized",
    "gpuNum": 0,
    "hideHardwareSpecs": false,
    "memoryGiB": 384,
    "name": "ml.r5.12xlarge",
    "vcpuNum": 48
   },
   {
    "_defaultOrder": 45,
    "_isFastLaunch": false,
    "category": "Memory Optimized",
    "gpuNum": 0,
    "hideHardwareSpecs": false,
    "memoryGiB": 512,
    "name": "ml.r5.16xlarge",
    "vcpuNum": 64
   },
   {
    "_defaultOrder": 46,
    "_isFastLaunch": false,
    "category": "Memory Optimized",
    "gpuNum": 0,
    "hideHardwareSpecs": false,
    "memoryGiB": 768,
    "name": "ml.r5.24xlarge",
    "vcpuNum": 96
   },
   {
    "_defaultOrder": 47,
    "_isFastLaunch": false,
    "category": "Accelerated computing",
    "gpuNum": 1,
    "hideHardwareSpecs": false,
    "memoryGiB": 16,
    "name": "ml.g5.xlarge",
    "vcpuNum": 4
   },
   {
    "_defaultOrder": 48,
    "_isFastLaunch": false,
    "category": "Accelerated computing",
    "gpuNum": 1,
    "hideHardwareSpecs": false,
    "memoryGiB": 32,
    "name": "ml.g5.2xlarge",
    "vcpuNum": 8
   },
   {
    "_defaultOrder": 49,
    "_isFastLaunch": false,
    "category": "Accelerated computing",
    "gpuNum": 1,
    "hideHardwareSpecs": false,
    "memoryGiB": 64,
    "name": "ml.g5.4xlarge",
    "vcpuNum": 16
   },
   {
    "_defaultOrder": 50,
    "_isFastLaunch": false,
    "category": "Accelerated computing",
    "gpuNum": 1,
    "hideHardwareSpecs": false,
    "memoryGiB": 128,
    "name": "ml.g5.8xlarge",
    "vcpuNum": 32
   },
   {
    "_defaultOrder": 51,
    "_isFastLaunch": false,
    "category": "Accelerated computing",
    "gpuNum": 1,
    "hideHardwareSpecs": false,
    "memoryGiB": 256,
    "name": "ml.g5.16xlarge",
    "vcpuNum": 64
   },
   {
    "_defaultOrder": 52,
    "_isFastLaunch": false,
    "category": "Accelerated computing",
    "gpuNum": 4,
    "hideHardwareSpecs": false,
    "memoryGiB": 192,
    "name": "ml.g5.12xlarge",
    "vcpuNum": 48
   },
   {
    "_defaultOrder": 53,
    "_isFastLaunch": false,
    "category": "Accelerated computing",
    "gpuNum": 4,
    "hideHardwareSpecs": false,
    "memoryGiB": 384,
    "name": "ml.g5.24xlarge",
    "vcpuNum": 96
   },
   {
    "_defaultOrder": 54,
    "_isFastLaunch": false,
    "category": "Accelerated computing",
    "gpuNum": 8,
    "hideHardwareSpecs": false,
    "memoryGiB": 768,
    "name": "ml.g5.48xlarge",
    "vcpuNum": 192
   },
   {
    "_defaultOrder": 55,
    "_isFastLaunch": false,
    "category": "Accelerated computing",
    "gpuNum": 8,
    "hideHardwareSpecs": false,
    "memoryGiB": 1152,
    "name": "ml.p4d.24xlarge",
    "vcpuNum": 96
   },
   {
    "_defaultOrder": 56,
    "_isFastLaunch": false,
    "category": "Accelerated computing",
    "gpuNum": 8,
    "hideHardwareSpecs": false,
    "memoryGiB": 1152,
    "name": "ml.p4de.24xlarge",
    "vcpuNum": 96
   },
   {
    "_defaultOrder": 57,
    "_isFastLaunch": false,
    "category": "Accelerated computing",
    "gpuNum": 0,
    "hideHardwareSpecs": false,
    "memoryGiB": 32,
    "name": "ml.trn1.2xlarge",
    "vcpuNum": 8
   },
   {
    "_defaultOrder": 58,
    "_isFastLaunch": false,
    "category": "Accelerated computing",
    "gpuNum": 0,
    "hideHardwareSpecs": false,
    "memoryGiB": 512,
    "name": "ml.trn1.32xlarge",
    "vcpuNum": 128
   },
   {
    "_defaultOrder": 59,
    "_isFastLaunch": false,
    "category": "Accelerated computing",
    "gpuNum": 0,
    "hideHardwareSpecs": false,
    "memoryGiB": 512,
    "name": "ml.trn1n.32xlarge",
    "vcpuNum": 128
   }
  ],
  "instance_type": "ml.m5.large",
  "kernelspec": {
   "display_name": "Python 3 (ipykernel)",
   "language": "python",
   "name": "python3"
  },
  "language_info": {
   "codemirror_mode": {
    "name": "ipython",
    "version": 3
   },
   "file_extension": ".py",
   "mimetype": "text/x-python",
   "name": "python",
   "nbconvert_exporter": "python",
   "pygments_lexer": "ipython3",
   "version": "3.12.4"
  }
 },
 "nbformat": 4,
 "nbformat_minor": 5
}
